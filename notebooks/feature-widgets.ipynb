{
 "cells": [
  {
   "cell_type": "code",
   "execution_count": 1,
   "metadata": {},
   "outputs": [
    {
     "name": "stdout",
     "output_type": "stream",
     "text": [
      "Triton not installed, using eager implementation of SAE decoder.\n"
     ]
    }
   ],
   "source": [
    "import requests\n",
    "import json\n",
    "import torch\n",
    "import numpy as np\n",
    "import pandas as pd\n",
    "from latentsae import Sae\n",
    "from sentence_transformers import SentenceTransformer"
   ]
  },
  {
   "cell_type": "code",
   "execution_count": 2,
   "metadata": {},
   "outputs": [
    {
     "data": {
      "application/vnd.jupyter.widget-view+json": {
       "model_id": "c4b91b0d441b4a27a512717fdc602afc",
       "version_major": 2,
       "version_minor": 0
      },
      "text/plain": [
       "Fetching 2 files:   0%|          | 0/2 [00:00<?, ?it/s]"
      ]
     },
     "metadata": {},
     "output_type": "display_data"
    },
    {
     "name": "stderr",
     "output_type": "stream",
     "text": [
      "Dropping extra args {'signed': False}\n"
     ]
    }
   ],
   "source": [
    "# first load the model\n",
    "sae_model = Sae.load_from_hub(\"enjalot/sae-nomic-text-v1.5-FineWeb-edu-100BT\", \"64_32\", device=\"cpu\")\n",
    "# chunk_mapping = requests.get(\"https://enjalot.github.io/latent-taxonomy/models/NOMIC_FWEDU_25k/chunk_mapping.json\").json()\n",
    "# sae_meta = requests.get(\"https://enjalot.github.io/latent-taxonomy/models/NOMIC_FWEDU_25k/metadata.json\").json()\n",
    "# sae_features = pd.read_parquet(\"https://enjalot.github.io/latent-taxonomy/models/NOMIC_FWEDU_25k/features.parquet\")\n",
    "chunk_mapping = json.load(open(\"/Users/enjalot/code/latent-taxonomy/web/public/models/NOMIC_FWEDU_25k/chunk_mapping.json\"))\n",
    "sae_meta = json.load(open(\"/Users/enjalot/code/latent-taxonomy/web/public/models/NOMIC_FWEDU_25k/metadata.json\"))\n",
    "sae_features = pd.read_parquet(\"/Users/enjalot/code/latent-taxonomy/web/public/models/NOMIC_FWEDU_25k/features.parquet\")"
   ]
  },
  {
   "cell_type": "code",
   "execution_count": 3,
   "metadata": {},
   "outputs": [
    {
     "name": "stderr",
     "output_type": "stream",
     "text": [
      "<All keys matched successfully>\n"
     ]
    }
   ],
   "source": [
    "emb_model = SentenceTransformer(\"nomic-ai/nomic-embed-text-v1.5\", trust_remote_code=True, device=\"cpu\")"
   ]
  },
  {
   "cell_type": "code",
   "execution_count": 4,
   "metadata": {},
   "outputs": [],
   "source": [
    "# get the top 10 samples for this feature\n",
    "def get_samples(feature):\n",
    "    chunk = chunk_mapping[str(feature)]\n",
    "    # samples = pd.read_parquet(f\"https://enjalot.github.io/latent-taxonomy/models/NOMIC_FWEDU_25k/samples/chunk_{chunk}.parquet\")\n",
    "    samples = pd.read_parquet(f\"/Users/enjalot/code/latent-taxonomy/web/public/models/NOMIC_FWEDU_25k/samples/chunk_{chunk}.parquet\")\n",
    "    samples = samples[samples[\"feature\"] == feature]\n",
    "    return samples"
   ]
  },
  {
   "cell_type": "code",
   "execution_count": 5,
   "metadata": {},
   "outputs": [],
   "source": [
    "#feature = 4658\n",
    "# feature = 11789\n",
    "# feature = 719\n",
    "feature = 0"
   ]
  },
  {
   "cell_type": "code",
   "execution_count": 6,
   "metadata": {},
   "outputs": [
    {
     "data": {
      "text/html": [
       "<div>\n",
       "<style scoped>\n",
       "    .dataframe tbody tr th:only-of-type {\n",
       "        vertical-align: middle;\n",
       "    }\n",
       "\n",
       "    .dataframe tbody tr th {\n",
       "        vertical-align: top;\n",
       "    }\n",
       "\n",
       "    .dataframe thead th {\n",
       "        text-align: right;\n",
       "    }\n",
       "</style>\n",
       "<table border=\"1\" class=\"dataframe\">\n",
       "  <thead>\n",
       "    <tr style=\"text-align: right;\">\n",
       "      <th></th>\n",
       "      <th>id</th>\n",
       "      <th>text</th>\n",
       "      <th>url</th>\n",
       "      <th>feature</th>\n",
       "      <th>activation</th>\n",
       "      <th>top_acts</th>\n",
       "      <th>top_indices</th>\n",
       "    </tr>\n",
       "  </thead>\n",
       "  <tbody>\n",
       "    <tr>\n",
       "      <th>0</th>\n",
       "      <td>&lt;urn:uuid:d45d32f3-aee4-464b-a7a7-4659ca6f95a5&gt;</td>\n",
       "      <td>2019 Study Abstract\\nGenomic imprinting, the m...</td>\n",
       "      <td>https://desdaughter.com/2019/01/21/genomic-imp...</td>\n",
       "      <td>0</td>\n",
       "      <td>0.297291</td>\n",
       "      <td>[0.29729074239730835, 0.23520702123641968, 0.1...</td>\n",
       "      <td>[0.0, 19961.0, 19487.0, 3596.0, 9132.0, 16563....</td>\n",
       "    </tr>\n",
       "    <tr>\n",
       "      <th>4973</th>\n",
       "      <td>&lt;urn:uuid:6492a5df-795c-4afc-8b96-adda43d374fe&gt;</td>\n",
       "      <td>biological function and regulation of imprinte...</td>\n",
       "      <td>http://www.biomedcentral.com/1471-2164/10/144</td>\n",
       "      <td>0</td>\n",
       "      <td>0.280182</td>\n",
       "      <td>[0.2801821529865265, 0.21019425988197327, 0.11...</td>\n",
       "      <td>[0.0, 19961.0, 12474.0, 18618.0, 5676.0, 18178...</td>\n",
       "    </tr>\n",
       "    <tr>\n",
       "      <th>2426</th>\n",
       "      <td>&lt;urn:uuid:c4cec9f7-a221-4bac-8872-ad938bbe3b9c&gt;</td>\n",
       "      <td>Molecular imprinting is a technique used to cr...</td>\n",
       "      <td>https://www.advancedsciencenews.com/new-trends...</td>\n",
       "      <td>0</td>\n",
       "      <td>0.279584</td>\n",
       "      <td>[0.27958399057388306, 0.15807494521141052, 0.1...</td>\n",
       "      <td>[0.0, 21919.0, 18672.0, 3614.0, 13226.0, 15727...</td>\n",
       "    </tr>\n",
       "    <tr>\n",
       "      <th>44507</th>\n",
       "      <td>&lt;urn:uuid:fd9748b7-ad11-4d51-b7d9-b5681c579e36&gt;</td>\n",
       "      <td>[CLS] imprinting / do not go where the path ma...</td>\n",
       "      <td>https://www.windermeresun.com/2017/08/05/impri...</td>\n",
       "      <td>0</td>\n",
       "      <td>0.271712</td>\n",
       "      <td>[0.27171218395233154, 0.24269740283489227, 0.1...</td>\n",
       "      <td>[0.0, 6864.0, 8104.0, 3020.0, 15020.0, 8543.0,...</td>\n",
       "    </tr>\n",
       "    <tr>\n",
       "      <th>7496</th>\n",
       "      <td>&lt;urn:uuid:40c30498-bed6-4b01-a37e-a2a1b70d80fd&gt;</td>\n",
       "      <td>There have been a number of recent insights in...</td>\n",
       "      <td>https://pure.ulster.ac.uk/en/publications/impr...</td>\n",
       "      <td>0</td>\n",
       "      <td>0.271703</td>\n",
       "      <td>[0.2717033922672272, 0.2493799477815628, 0.117...</td>\n",
       "      <td>[0.0, 19961.0, 21919.0, 14900.0, 22498.0, 1514...</td>\n",
       "    </tr>\n",
       "  </tbody>\n",
       "</table>\n",
       "</div>"
      ],
      "text/plain": [
       "                                                    id  \\\n",
       "0      <urn:uuid:d45d32f3-aee4-464b-a7a7-4659ca6f95a5>   \n",
       "4973   <urn:uuid:6492a5df-795c-4afc-8b96-adda43d374fe>   \n",
       "2426   <urn:uuid:c4cec9f7-a221-4bac-8872-ad938bbe3b9c>   \n",
       "44507  <urn:uuid:fd9748b7-ad11-4d51-b7d9-b5681c579e36>   \n",
       "7496   <urn:uuid:40c30498-bed6-4b01-a37e-a2a1b70d80fd>   \n",
       "\n",
       "                                                    text  \\\n",
       "0      2019 Study Abstract\\nGenomic imprinting, the m...   \n",
       "4973   biological function and regulation of imprinte...   \n",
       "2426   Molecular imprinting is a technique used to cr...   \n",
       "44507  [CLS] imprinting / do not go where the path ma...   \n",
       "7496   There have been a number of recent insights in...   \n",
       "\n",
       "                                                     url  feature  activation  \\\n",
       "0      https://desdaughter.com/2019/01/21/genomic-imp...        0    0.297291   \n",
       "4973       http://www.biomedcentral.com/1471-2164/10/144        0    0.280182   \n",
       "2426   https://www.advancedsciencenews.com/new-trends...        0    0.279584   \n",
       "44507  https://www.windermeresun.com/2017/08/05/impri...        0    0.271712   \n",
       "7496   https://pure.ulster.ac.uk/en/publications/impr...        0    0.271703   \n",
       "\n",
       "                                                top_acts  \\\n",
       "0      [0.29729074239730835, 0.23520702123641968, 0.1...   \n",
       "4973   [0.2801821529865265, 0.21019425988197327, 0.11...   \n",
       "2426   [0.27958399057388306, 0.15807494521141052, 0.1...   \n",
       "44507  [0.27171218395233154, 0.24269740283489227, 0.1...   \n",
       "7496   [0.2717033922672272, 0.2493799477815628, 0.117...   \n",
       "\n",
       "                                             top_indices  \n",
       "0      [0.0, 19961.0, 19487.0, 3596.0, 9132.0, 16563....  \n",
       "4973   [0.0, 19961.0, 12474.0, 18618.0, 5676.0, 18178...  \n",
       "2426   [0.0, 21919.0, 18672.0, 3614.0, 13226.0, 15727...  \n",
       "44507  [0.0, 6864.0, 8104.0, 3020.0, 15020.0, 8543.0,...  \n",
       "7496   [0.0, 19961.0, 21919.0, 14900.0, 22498.0, 1514...  "
      ]
     },
     "execution_count": 6,
     "metadata": {},
     "output_type": "execute_result"
    }
   ],
   "source": [
    "samples = get_samples(feature)\n",
    "samples.head()"
   ]
  },
  {
   "cell_type": "code",
   "execution_count": 7,
   "metadata": {},
   "outputs": [],
   "source": [
    "all_samples = pd.read_parquet(\"~/code/latent-taxonomy/notebooks/data/top10_64_32.parquet\")"
   ]
  },
  {
   "cell_type": "code",
   "execution_count": 8,
   "metadata": {},
   "outputs": [],
   "source": [
    "asamples = all_samples[all_samples[\"feature\"] == feature]"
   ]
  },
  {
   "cell_type": "code",
   "execution_count": 9,
   "metadata": {},
   "outputs": [
    {
     "data": {
      "text/html": [
       "<div>\n",
       "<style scoped>\n",
       "    .dataframe tbody tr th:only-of-type {\n",
       "        vertical-align: middle;\n",
       "    }\n",
       "\n",
       "    .dataframe tbody tr th {\n",
       "        vertical-align: top;\n",
       "    }\n",
       "\n",
       "    .dataframe thead th {\n",
       "        text-align: right;\n",
       "    }\n",
       "</style>\n",
       "<table border=\"1\" class=\"dataframe\">\n",
       "  <thead>\n",
       "    <tr style=\"text-align: right;\">\n",
       "      <th></th>\n",
       "      <th>chunk_index</th>\n",
       "      <th>chunk_text</th>\n",
       "      <th>chunk_token_count</th>\n",
       "      <th>id</th>\n",
       "      <th>url</th>\n",
       "      <th>score</th>\n",
       "      <th>dump</th>\n",
       "      <th>embedding</th>\n",
       "      <th>top_acts</th>\n",
       "      <th>top_indices</th>\n",
       "      <th>feature</th>\n",
       "      <th>activation</th>\n",
       "    </tr>\n",
       "  </thead>\n",
       "  <tbody>\n",
       "    <tr>\n",
       "      <th>0</th>\n",
       "      <td>0</td>\n",
       "      <td>2019 Study Abstract\\nGenomic imprinting, the m...</td>\n",
       "      <td>191</td>\n",
       "      <td>&lt;urn:uuid:d45d32f3-aee4-464b-a7a7-4659ca6f95a5&gt;</td>\n",
       "      <td>https://desdaughter.com/2019/01/21/genomic-imp...</td>\n",
       "      <td>2.859375</td>\n",
       "      <td>CC-MAIN-2019-18</td>\n",
       "      <td>[0.070664756, 0.04058804, -0.1678945, -0.04720...</td>\n",
       "      <td>[0.29729074239730835, 0.23520702123641968, 0.1...</td>\n",
       "      <td>[0.0, 19961.0, 19487.0, 3596.0, 9132.0, 16563....</td>\n",
       "      <td>0</td>\n",
       "      <td>0.297291</td>\n",
       "    </tr>\n",
       "    <tr>\n",
       "      <th>4973</th>\n",
       "      <td>1</td>\n",
       "      <td>biological function and regulation of imprinte...</td>\n",
       "      <td>500</td>\n",
       "      <td>&lt;urn:uuid:6492a5df-795c-4afc-8b96-adda43d374fe&gt;</td>\n",
       "      <td>http://www.biomedcentral.com/1471-2164/10/144</td>\n",
       "      <td>2.640625</td>\n",
       "      <td>CC-MAIN-2015-11</td>\n",
       "      <td>[0.08591175, 0.05282476, -0.1623837, -0.038760...</td>\n",
       "      <td>[0.2801821529865265, 0.21019425988197327, 0.11...</td>\n",
       "      <td>[0.0, 19961.0, 12474.0, 18618.0, 5676.0, 18178...</td>\n",
       "      <td>0</td>\n",
       "      <td>0.280182</td>\n",
       "    </tr>\n",
       "    <tr>\n",
       "      <th>2426</th>\n",
       "      <td>0</td>\n",
       "      <td>Molecular imprinting is a technique used to cr...</td>\n",
       "      <td>277</td>\n",
       "      <td>&lt;urn:uuid:c4cec9f7-a221-4bac-8872-ad938bbe3b9c&gt;</td>\n",
       "      <td>https://www.advancedsciencenews.com/new-trends...</td>\n",
       "      <td>2.796875</td>\n",
       "      <td>CC-MAIN-2021-04</td>\n",
       "      <td>[0.06389447, 0.054419804, -0.1866366, -0.05261...</td>\n",
       "      <td>[0.27958399057388306, 0.15807494521141052, 0.1...</td>\n",
       "      <td>[0.0, 21919.0, 18672.0, 3614.0, 13226.0, 15727...</td>\n",
       "      <td>0</td>\n",
       "      <td>0.279584</td>\n",
       "    </tr>\n",
       "    <tr>\n",
       "      <th>44507</th>\n",
       "      <td>0</td>\n",
       "      <td>[CLS] imprinting / do not go where the path ma...</td>\n",
       "      <td>500</td>\n",
       "      <td>&lt;urn:uuid:fd9748b7-ad11-4d51-b7d9-b5681c579e36&gt;</td>\n",
       "      <td>https://www.windermeresun.com/2017/08/05/impri...</td>\n",
       "      <td>3.218750</td>\n",
       "      <td>CC-MAIN-2023-40</td>\n",
       "      <td>[0.045871254, 0.0841982, -0.20583852, -0.07991...</td>\n",
       "      <td>[0.27171218395233154, 0.24269740283489227, 0.1...</td>\n",
       "      <td>[0.0, 6864.0, 8104.0, 3020.0, 15020.0, 8543.0,...</td>\n",
       "      <td>0</td>\n",
       "      <td>0.271712</td>\n",
       "    </tr>\n",
       "    <tr>\n",
       "      <th>7496</th>\n",
       "      <td>0</td>\n",
       "      <td>There have been a number of recent insights in...</td>\n",
       "      <td>212</td>\n",
       "      <td>&lt;urn:uuid:40c30498-bed6-4b01-a37e-a2a1b70d80fd&gt;</td>\n",
       "      <td>https://pure.ulster.ac.uk/en/publications/impr...</td>\n",
       "      <td>3.078125</td>\n",
       "      <td>CC-MAIN-2021-10</td>\n",
       "      <td>[0.06898261, 0.04841869, -0.16367012, -0.05253...</td>\n",
       "      <td>[0.2717033922672272, 0.2493799477815628, 0.117...</td>\n",
       "      <td>[0.0, 19961.0, 21919.0, 14900.0, 22498.0, 1514...</td>\n",
       "      <td>0</td>\n",
       "      <td>0.271703</td>\n",
       "    </tr>\n",
       "  </tbody>\n",
       "</table>\n",
       "</div>"
      ],
      "text/plain": [
       "       chunk_index                                         chunk_text  \\\n",
       "0                0  2019 Study Abstract\\nGenomic imprinting, the m...   \n",
       "4973             1  biological function and regulation of imprinte...   \n",
       "2426             0  Molecular imprinting is a technique used to cr...   \n",
       "44507            0  [CLS] imprinting / do not go where the path ma...   \n",
       "7496             0  There have been a number of recent insights in...   \n",
       "\n",
       "       chunk_token_count                                               id  \\\n",
       "0                    191  <urn:uuid:d45d32f3-aee4-464b-a7a7-4659ca6f95a5>   \n",
       "4973                 500  <urn:uuid:6492a5df-795c-4afc-8b96-adda43d374fe>   \n",
       "2426                 277  <urn:uuid:c4cec9f7-a221-4bac-8872-ad938bbe3b9c>   \n",
       "44507                500  <urn:uuid:fd9748b7-ad11-4d51-b7d9-b5681c579e36>   \n",
       "7496                 212  <urn:uuid:40c30498-bed6-4b01-a37e-a2a1b70d80fd>   \n",
       "\n",
       "                                                     url     score  \\\n",
       "0      https://desdaughter.com/2019/01/21/genomic-imp...  2.859375   \n",
       "4973       http://www.biomedcentral.com/1471-2164/10/144  2.640625   \n",
       "2426   https://www.advancedsciencenews.com/new-trends...  2.796875   \n",
       "44507  https://www.windermeresun.com/2017/08/05/impri...  3.218750   \n",
       "7496   https://pure.ulster.ac.uk/en/publications/impr...  3.078125   \n",
       "\n",
       "                  dump                                          embedding  \\\n",
       "0      CC-MAIN-2019-18  [0.070664756, 0.04058804, -0.1678945, -0.04720...   \n",
       "4973   CC-MAIN-2015-11  [0.08591175, 0.05282476, -0.1623837, -0.038760...   \n",
       "2426   CC-MAIN-2021-04  [0.06389447, 0.054419804, -0.1866366, -0.05261...   \n",
       "44507  CC-MAIN-2023-40  [0.045871254, 0.0841982, -0.20583852, -0.07991...   \n",
       "7496   CC-MAIN-2021-10  [0.06898261, 0.04841869, -0.16367012, -0.05253...   \n",
       "\n",
       "                                                top_acts  \\\n",
       "0      [0.29729074239730835, 0.23520702123641968, 0.1...   \n",
       "4973   [0.2801821529865265, 0.21019425988197327, 0.11...   \n",
       "2426   [0.27958399057388306, 0.15807494521141052, 0.1...   \n",
       "44507  [0.27171218395233154, 0.24269740283489227, 0.1...   \n",
       "7496   [0.2717033922672272, 0.2493799477815628, 0.117...   \n",
       "\n",
       "                                             top_indices  feature  activation  \n",
       "0      [0.0, 19961.0, 19487.0, 3596.0, 9132.0, 16563....        0    0.297291  \n",
       "4973   [0.0, 19961.0, 12474.0, 18618.0, 5676.0, 18178...        0    0.280182  \n",
       "2426   [0.0, 21919.0, 18672.0, 3614.0, 13226.0, 15727...        0    0.279584  \n",
       "44507  [0.0, 6864.0, 8104.0, 3020.0, 15020.0, 8543.0,...        0    0.271712  \n",
       "7496   [0.0, 19961.0, 21919.0, 14900.0, 22498.0, 1514...        0    0.271703  "
      ]
     },
     "execution_count": 9,
     "metadata": {},
     "output_type": "execute_result"
    }
   ],
   "source": [
    "asamples.head()"
   ]
  },
  {
   "cell_type": "code",
   "execution_count": 10,
   "metadata": {},
   "outputs": [
    {
     "data": {
      "text/plain": [
       "(10, 768)"
      ]
     },
     "execution_count": 10,
     "metadata": {},
     "output_type": "execute_result"
    }
   ],
   "source": [
    "# embedding = emb_model.encode(samples[\"text\"].to_list())\n",
    "embedding = emb_model.encode(asamples[\"chunk_text\"].to_list())\n",
    "embedding.shape"
   ]
  },
  {
   "cell_type": "code",
   "execution_count": 11,
   "metadata": {},
   "outputs": [],
   "source": [
    "normalized_embeddings = embedding / np.linalg.norm(embedding, ord=2, axis=1, keepdims=True)"
   ]
  },
  {
   "cell_type": "code",
   "execution_count": 12,
   "metadata": {},
   "outputs": [],
   "source": [
    "aembeddings = asamples[\"embedding\"].to_numpy()\n",
    "aembeddings = np.array([np.array(emb) for emb in aembeddings])"
   ]
  },
  {
   "cell_type": "code",
   "execution_count": 13,
   "metadata": {},
   "outputs": [],
   "source": [
    "# extract the topk features (directions) for each embedding\n",
    "# directions = sae_model.encode(torch.from_numpy(embedding))\n",
    "# directions = sae_model.encode(torch.from_numpy(normalized_embeddings))\n",
    "directions = sae_model.encode(torch.from_numpy(aembeddings))"
   ]
  },
  {
   "cell_type": "code",
   "execution_count": 14,
   "metadata": {},
   "outputs": [
    {
     "name": "stdout",
     "output_type": "stream",
     "text": [
      "torch.Size([10, 64])\n",
      "torch.Size([10, 64])\n"
     ]
    }
   ],
   "source": [
    "print(directions.top_acts.shape)\n",
    "print(directions.top_indices.shape)"
   ]
  },
  {
   "cell_type": "code",
   "execution_count": 15,
   "metadata": {},
   "outputs": [
    {
     "data": {
      "text/plain": [
       "tensor([    0, 19961, 19487,  3596,  9132, 16563, 18672, 15146, 22498, 18178,\n",
       "         1893,   928, 15020,  2305,  6674, 18703, 16053, 17574,  6869, 21919,\n",
       "         2597, 22048, 21556, 17923, 17837, 13226, 17469,  4501, 10314,    38,\n",
       "         1299,   304, 14900, 12474,  1309, 17717, 20007, 17054, 19394, 18618,\n",
       "        10659, 24116,  2310, 17529,  2463, 10237,  7722, 10225,  7652, 20384,\n",
       "        12970,  1883,  3185,  5676, 24487, 15884, 23890,  5174,  1450,  1051,\n",
       "         3874, 23637, 13718,   363])"
      ]
     },
     "execution_count": 15,
     "metadata": {},
     "output_type": "execute_result"
    }
   ],
   "source": [
    "# visualize topk for a single sample\n",
    "directions.top_indices[0]"
   ]
  },
  {
   "cell_type": "code",
   "execution_count": 16,
   "metadata": {},
   "outputs": [
    {
     "data": {
      "text/plain": [
       "tensor([0.2973, 0.2352, 0.1373, 0.0896, 0.0880, 0.0878, 0.0854, 0.0753, 0.0728,\n",
       "        0.0666, 0.0570, 0.0548, 0.0522, 0.0514, 0.0432, 0.0431, 0.0417, 0.0413,\n",
       "        0.0400, 0.0359, 0.0355, 0.0341, 0.0337, 0.0334, 0.0320, 0.0317, 0.0299,\n",
       "        0.0295, 0.0283, 0.0272, 0.0268, 0.0256, 0.0254, 0.0251, 0.0250, 0.0245,\n",
       "        0.0242, 0.0239, 0.0238, 0.0238, 0.0233, 0.0230, 0.0229, 0.0223, 0.0222,\n",
       "        0.0222, 0.0221, 0.0219, 0.0218, 0.0217, 0.0217, 0.0213, 0.0208, 0.0207,\n",
       "        0.0205, 0.0204, 0.0204, 0.0202, 0.0202, 0.0194, 0.0194, 0.0192, 0.0191,\n",
       "        0.0188], grad_fn=<SelectBackward0>)"
      ]
     },
     "execution_count": 16,
     "metadata": {},
     "output_type": "execute_result"
    }
   ],
   "source": [
    "directions.top_acts[0]"
   ]
  },
  {
   "cell_type": "code",
   "execution_count": 17,
   "metadata": {},
   "outputs": [],
   "source": [
    "def get_direction(directions, idx):\n",
    "    return { \"top_indices\": directions.top_indices[idx], \"top_acts\": directions.top_acts[idx] }\n"
   ]
  },
  {
   "cell_type": "code",
   "execution_count": 18,
   "metadata": {},
   "outputs": [],
   "source": [
    "def get_maxk(directions, k=32):\n",
    "    # Flatten the top_acts and top_indices to find the global top k\n",
    "    flat_acts = directions.top_acts.flatten()\n",
    "    flat_indices = directions.top_indices.flatten()\n",
    "\n",
    "    # Create a dictionary to keep track of the highest activation for each index\n",
    "    max_acts = {}\n",
    "    \n",
    "    for act, idx in zip(flat_acts, flat_indices):\n",
    "        if idx.item() not in max_acts or act.item() > max_acts[idx.item()]:\n",
    "            max_acts[idx.item()] = act.item()\n",
    "    \n",
    "    # Convert the dictionary back to tensors\n",
    "    flat_acts = torch.tensor(list(max_acts.values()))\n",
    "    flat_indices = torch.tensor(list(max_acts.keys()))\n",
    "    \n",
    "    # Get the top k activations and their corresponding indices\n",
    "    topk_acts, topk_indices = torch.topk(flat_acts, k)\n",
    "    \n",
    "    # Map the flat indices back to the original indices\n",
    "    original_indices = flat_indices[topk_indices]\n",
    "    \n",
    "    topk = {\n",
    "        \"top_acts\": topk_acts,\n",
    "        \"top_indices\": original_indices\n",
    "    }\n",
    "    return topk"
   ]
  },
  {
   "cell_type": "code",
   "execution_count": 19,
   "metadata": {},
   "outputs": [],
   "source": [
    "maxk = get_maxk(directions, 32)"
   ]
  },
  {
   "cell_type": "code",
   "execution_count": 20,
   "metadata": {},
   "outputs": [
    {
     "data": {
      "text/plain": [
       "{'top_acts': tensor([0.2973, 0.2494, 0.2427, 0.1785, 0.1581, 0.1403, 0.1403, 0.1388, 0.1373,\n",
       "         0.1342, 0.1219, 0.1175, 0.1096, 0.1033, 0.1014, 0.0998, 0.0983, 0.0899,\n",
       "         0.0895, 0.0885, 0.0880, 0.0878, 0.0861, 0.0831, 0.0798, 0.0778, 0.0760,\n",
       "         0.0753, 0.0750, 0.0723, 0.0712, 0.0710]),\n",
       " 'top_indices': tensor([    0, 19961,  6864, 13226, 21919, 18672, 12474, 18178, 19487, 15020,\n",
       "          2463,  8104,  5676, 18618, 14900, 12064,  3614,  3596, 12363,   668,\n",
       "          9132, 16563, 22498, 18703, 17432, 20384,  3020, 15146, 15727,  1141,\n",
       "          6726, 18874])}"
      ]
     },
     "execution_count": 20,
     "metadata": {},
     "output_type": "execute_result"
    }
   ],
   "source": [
    "maxk"
   ]
  },
  {
   "cell_type": "code",
   "execution_count": 21,
   "metadata": {},
   "outputs": [],
   "source": [
    "features = sae_features.to_dict(orient='records')"
   ]
  },
  {
   "cell_type": "code",
   "execution_count": 22,
   "metadata": {},
   "outputs": [
    {
     "data": {
      "text/plain": [
       "{'feature': 0,\n",
       " 'max_activation': 0.29729074239730835,\n",
       " 'x': -0.303497314453125,\n",
       " 'y': 0.6250810623168945,\n",
       " 'top10_x': 0.5155614614486694,\n",
       " 'top10_y': -0.06895756721496582,\n",
       " 'label': 'genomic and molecular imprinting concepts',\n",
       " 'order': 0.8350008726119995}"
      ]
     },
     "execution_count": 22,
     "metadata": {},
     "output_type": "execute_result"
    }
   ],
   "source": [
    "features[0]"
   ]
  },
  {
   "cell_type": "code",
   "execution_count": 23,
   "metadata": {},
   "outputs": [],
   "source": [
    "# %aimport -latentsae.widgets.topk_vis"
   ]
  },
  {
   "cell_type": "code",
   "execution_count": 53,
   "metadata": {},
   "outputs": [],
   "source": [
    "# pip install -e .\n",
    "from latentsae.widgets import TopK, Embedding"
   ]
  },
  {
   "cell_type": "code",
   "execution_count": 54,
   "metadata": {},
   "outputs": [
    {
     "data": {
      "text/html": [
       "<script>document.querySelectorAll('style#topk-widget-css').forEach(e => e.remove())</script>"
      ],
      "text/plain": [
       "<IPython.core.display.HTML object>"
      ]
     },
     "metadata": {},
     "output_type": "display_data"
    },
    {
     "data": {
      "text/html": [
       "<style id='topk-widget-css'>\n",
       ".widget-topk-vis {\n",
       "  width: calc(100%);\n",
       "  height: 100%;\n",
       "  padding: 10px;\n",
       "  color: #111;\n",
       "}\n",
       ".sampleActivationBar {\n",
       "  width: 95%; \n",
       "  border: 1px solid lightgray;\n",
       "  height: 14px;\n",
       "  position: relative;\n",
       "  margin: 1px;\n",
       "  overflow: hidden;\n",
       "}\n",
       ".sampleActivationBarForeground {\n",
       "  height: 12px;\n",
       "  opacity: 0.7;\n",
       "}\n",
       ".sampleActivationBarForeground:hover {\n",
       "  opacity: 1;\n",
       "}\n",
       ".sampleActivationBarLabel {\n",
       "  font-size: 10px;\n",
       "  position: absolute;\n",
       "  top: -2px;\n",
       "  left: 4px;\n",
       "  display: flex;\n",
       "  flex-direction: row;\n",
       "  align-items: center;\n",
       "  justify-content: space-between;\n",
       "  pointer-events: none;\n",
       "  width: 95%;\n",
       "  overflow: hidden;\n",
       "}\n",
       "\n",
       "</style>"
      ],
      "text/plain": [
       "<IPython.core.display.HTML object>"
      ]
     },
     "metadata": {},
     "output_type": "display_data"
    },
    {
     "data": {
      "application/vnd.jupyter.widget-view+json": {
       "model_id": "9c334773e6514e58b8d0a4aa021263a9",
       "version_major": 2,
       "version_minor": 1
      },
      "text/plain": [
       "TopK(data={'top_acts': [0.29729074239730835, 0.24937991797924042, 0.24269738793373108, 0.17847247421741486, 0.…"
      ]
     },
     "execution_count": 54,
     "metadata": {},
     "output_type": "execute_result"
    }
   ],
   "source": [
    "# widget = TopK(data=maxk, n=10, features=features)\n",
    "widget = TopK(data=maxk, n=10, features=features)\n",
    "# widget.css() # TODO: a better solution for this\n",
    "widget"
   ]
  },
  {
   "cell_type": "code",
   "execution_count": 55,
   "metadata": {},
   "outputs": [
    {
     "data": {
      "text/html": [
       "<script>document.querySelectorAll('style#topk-widget-css').forEach(e => e.remove())</script>"
      ],
      "text/plain": [
       "<IPython.core.display.HTML object>"
      ]
     },
     "metadata": {},
     "output_type": "display_data"
    },
    {
     "data": {
      "text/html": [
       "<style id='topk-widget-css'>\n",
       ".widget-topk-vis {\n",
       "  width: calc(100%);\n",
       "  height: 100%;\n",
       "  padding: 10px;\n",
       "  color: #111;\n",
       "}\n",
       ".sampleActivationBar {\n",
       "  width: 95%; \n",
       "  border: 1px solid lightgray;\n",
       "  height: 14px;\n",
       "  position: relative;\n",
       "  margin: 1px;\n",
       "  overflow: hidden;\n",
       "}\n",
       ".sampleActivationBarForeground {\n",
       "  height: 12px;\n",
       "  opacity: 0.7;\n",
       "}\n",
       ".sampleActivationBarForeground:hover {\n",
       "  opacity: 1;\n",
       "}\n",
       ".sampleActivationBarLabel {\n",
       "  font-size: 10px;\n",
       "  position: absolute;\n",
       "  top: -2px;\n",
       "  left: 4px;\n",
       "  display: flex;\n",
       "  flex-direction: row;\n",
       "  align-items: center;\n",
       "  justify-content: space-between;\n",
       "  pointer-events: none;\n",
       "  width: 95%;\n",
       "  overflow: hidden;\n",
       "}\n",
       "\n",
       "</style>"
      ],
      "text/plain": [
       "<IPython.core.display.HTML object>"
      ]
     },
     "metadata": {},
     "output_type": "display_data"
    },
    {
     "data": {
      "application/vnd.jupyter.widget-view+json": {
       "model_id": "62f26805fc0344b4bbf4e27c7be7a5f9",
       "version_major": 2,
       "version_minor": 1
      },
      "text/plain": [
       "TopK(data={'top_indices': [0, 19961, 19487, 3596, 9132, 16563, 18672, 15146, 22498, 18178, 1893, 928, 15020, 2…"
      ]
     },
     "execution_count": 55,
     "metadata": {},
     "output_type": "execute_result"
    }
   ],
   "source": [
    "widget = TopK(data=get_direction(directions, 0), n=10, features=features)\n",
    "widget\n"
   ]
  },
  {
   "cell_type": "code",
   "execution_count": 84,
   "metadata": {},
   "outputs": [
    {
     "data": {
      "text/html": [
       "<script>document.querySelectorAll('style#embedding-vis-widget-css').forEach(e => e.remove())</script>"
      ],
      "text/plain": [
       "<IPython.core.display.HTML object>"
      ]
     },
     "metadata": {},
     "output_type": "display_data"
    },
    {
     "data": {
      "text/html": [
       "<style id='embedding-vis-widget-css'>.widget-embedding-vis {\n",
       "  padding: 6px;\n",
       "  display: inline-block;\n",
       "}\n",
       "</style>"
      ],
      "text/plain": [
       "<IPython.core.display.HTML object>"
      ]
     },
     "metadata": {},
     "output_type": "display_data"
    },
    {
     "data": {
      "application/vnd.jupyter.widget-view+json": {
       "model_id": "d44dff4b6afd4dc9a06c9fd66fac03bd",
       "version_major": 2,
       "version_minor": 1
      },
      "text/plain": [
       "Embedding(element_size=5, embedding=[0.06389447, 0.054419804, -0.1866366, -0.052610572, 0.05518159, -0.0296856…"
      ]
     },
     "execution_count": 84,
     "metadata": {},
     "output_type": "execute_result"
    }
   ],
   "source": [
    "Embedding(embedding=aembeddings[2].tolist(), rows=8, element_size=5, spacing=0.5)"
   ]
  },
  {
   "cell_type": "code",
   "execution_count": null,
   "metadata": {},
   "outputs": [],
   "source": []
  },
  {
   "cell_type": "code",
   "execution_count": null,
   "metadata": {},
   "outputs": [],
   "source": []
  }
 ],
 "metadata": {
  "kernelspec": {
   "display_name": "venv",
   "language": "python",
   "name": "python3"
  },
  "language_info": {
   "codemirror_mode": {
    "name": "ipython",
    "version": 3
   },
   "file_extension": ".py",
   "mimetype": "text/x-python",
   "name": "python",
   "nbconvert_exporter": "python",
   "pygments_lexer": "ipython3",
   "version": "3.12.7"
  }
 },
 "nbformat": 4,
 "nbformat_minor": 2
}

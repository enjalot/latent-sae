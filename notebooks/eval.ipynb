{
 "cells": [
  {
   "cell_type": "code",
   "execution_count": 78,
   "metadata": {},
   "outputs": [],
   "source": [
    "import os\n",
    "import sys\n",
    "# sys.path.append(os.path.abspath(os.path.join('../latentsae')))\n",
    "# pip install -e .\n",
    "# or pip install latentsae\n",
    "from latentsae.sae import Sae\n",
    "\n",
    "import torch\n",
    "import h5py\n",
    "import numpy as np"
   ]
  },
  {
   "cell_type": "code",
   "execution_count": 94,
   "metadata": {},
   "outputs": [],
   "source": [
    "device = \"cpu\""
   ]
  },
  {
   "cell_type": "code",
   "execution_count": 95,
   "metadata": {},
   "outputs": [
    {
     "name": "stderr",
     "output_type": "stream",
     "text": [
      "Fetching 2 files: 100%|██████████| 2/2 [00:00<00:00, 33420.75it/s]\n"
     ]
    }
   ],
   "source": [
    "# model = Sae.load_from_disk(\"models/sae_64_32.3mq7ckj7\")\n",
    "model = Sae.load_from_hub(\"enjalot/sae-nomic-text-v1.5-FineWeb-edu-10BT\", \"64_32\", device=device)"
   ]
  },
  {
   "cell_type": "code",
   "execution_count": 106,
   "metadata": {},
   "outputs": [],
   "source": [
    "# embedding_path = os.path.join(\"/Users/enjalot/latent-scope-data\", \"fineweb-edu-10k\", \"embeddings\", \"embedding-001.h5\")\n",
    "embedding_path = os.path.join(\"/Users/enjalot/latent-scope-data\", \"fineweb-edu-100k\", \"embeddings\", \"embedding-001.h5\")\n",
    "# embedding_path = os.path.join(\"/Users/enjalot/latent-scope-data\", \"us-federal-laws\", \"embeddings\", \"embedding-002.h5\")\n",
    "# embedding_path = os.path.join(\"/Users/enjalot/latent-scope-data\", \"dolly15k\", \"embeddings\", \"embedding-008.h5\")\n",
    "with h5py.File(embedding_path, 'r') as f:\n",
    "    dataset = f[\"embeddings\"]\n",
    "    embeddings = np.array(dataset)"
   ]
  },
  {
   "cell_type": "code",
   "execution_count": 107,
   "metadata": {},
   "outputs": [
    {
     "data": {
      "text/plain": [
       "array([ 2.83088982e-02,  6.56217709e-02, -1.82387292e-01, -9.96982977e-02,\n",
       "        8.22735205e-03,  8.71528015e-02, -5.40507063e-02,  2.54485458e-02,\n",
       "        7.11506456e-02,  2.57746782e-02, -6.88222349e-02,  1.46031473e-02,\n",
       "        9.79836583e-02,  1.45471133e-02,  4.25714180e-02, -7.68876693e-04,\n",
       "        5.86299300e-02,  1.55894726e-03,  1.44025055e-03,  5.67943230e-02,\n",
       "       -6.19490258e-02, -1.12687992e-02, -3.74421366e-02,  1.01137040e-02,\n",
       "        7.20133260e-02,  5.33436872e-02, -6.58688694e-02, -4.12885845e-02,\n",
       "       -3.78061347e-02,  4.03551981e-02, -1.45319058e-02, -3.42009068e-02,\n",
       "        2.67834198e-02, -4.15060744e-02, -6.27082437e-02, -5.73392697e-02,\n",
       "       -3.19288485e-03,  2.45770793e-02, -6.80648116e-03,  2.61772163e-02,\n",
       "        4.27753516e-02,  1.70776993e-02, -2.90831341e-03, -3.26724090e-02,\n",
       "        6.90031573e-02, -3.56149301e-02,  4.22868095e-02, -1.39518538e-02,\n",
       "        3.68041806e-02,  3.96995023e-02,  5.71679398e-02, -3.15374769e-02,\n",
       "        3.53350565e-02, -4.53164354e-02,  6.68904781e-02,  5.88120520e-02,\n",
       "        1.74858086e-02,  1.81525145e-02, -4.90120575e-02, -2.28932276e-02,\n",
       "        5.62959500e-02, -1.99780315e-02, -2.49994062e-02,  1.09998725e-01,\n",
       "       -5.28028654e-03, -2.09304709e-02, -7.26599917e-02,  3.10005080e-02,\n",
       "        9.88557120e-04, -3.51146124e-02,  1.27201155e-02, -5.64631559e-02,\n",
       "       -2.50370838e-02, -2.45243702e-02,  2.87032570e-03,  8.32610205e-03,\n",
       "        2.56610662e-02,  7.44950306e-03, -3.98404291e-03, -9.59664304e-03,\n",
       "        4.27452065e-02, -5.58806024e-02,  3.99325378e-02, -7.11306784e-05,\n",
       "        1.50862727e-02, -1.13850031e-02,  3.93236615e-02, -7.03736162e-03,\n",
       "       -3.92672680e-02,  3.11159398e-02,  4.18245308e-02,  4.36608233e-02,\n",
       "        5.25710918e-02,  2.95520425e-02, -1.51969949e-02, -3.23452987e-02,\n",
       "       -1.38134025e-02, -1.29016424e-02, -2.03457084e-02, -2.40391828e-02,\n",
       "       -7.20899701e-02, -1.19886072e-02, -2.51982873e-03, -1.46956164e-02,\n",
       "        6.68791682e-02, -1.02619547e-02,  2.89227627e-02,  2.31816545e-02,\n",
       "       -2.60627898e-03, -3.17532048e-02, -4.15700208e-03,  8.62568989e-03,\n",
       "       -4.98192012e-02, -1.64043847e-02, -1.69863906e-02, -2.67676618e-02,\n",
       "        1.35390544e-02, -7.12403879e-02,  3.92663181e-02,  3.15126851e-02,\n",
       "       -2.07454897e-02,  6.48966338e-03, -6.04938529e-03,  3.81162912e-02,\n",
       "        2.02230662e-02,  1.98626462e-02, -3.47611457e-02,  1.29972324e-02,\n",
       "       -3.06152925e-02, -4.43647876e-02, -4.76123542e-02, -5.93326148e-03,\n",
       "       -1.17804138e-02,  7.88146444e-03,  1.46701979e-02,  3.90093550e-02,\n",
       "       -1.40296584e-02, -5.37745208e-02, -5.02268523e-02,  2.36083157e-02,\n",
       "        1.67285297e-02,  2.94008721e-02, -1.02646891e-02, -3.01096234e-02,\n",
       "        1.10490667e-02, -9.65728832e-04,  3.52192298e-02, -1.41520118e-02,\n",
       "       -5.50537817e-02,  8.03100392e-02,  8.52297898e-03,  2.72358600e-02,\n",
       "        1.38344718e-02,  5.80077879e-02, -5.85694946e-02, -2.40012221e-02,\n",
       "        2.25135516e-02,  3.98555547e-02, -1.22786136e-02, -1.13769984e-02,\n",
       "        3.27064469e-02, -2.02575121e-02, -9.07244533e-03,  7.06435442e-02,\n",
       "       -6.99559925e-03,  4.22268622e-02,  1.25017622e-02, -9.89192777e-05,\n",
       "       -1.82757957e-03,  3.73750292e-02, -2.24568881e-02, -4.00503725e-02,\n",
       "       -7.53149576e-03,  6.83491467e-04,  7.48468516e-03, -6.01591393e-02,\n",
       "        5.16204722e-02, -8.55187848e-02,  1.76075790e-02, -6.60999641e-02,\n",
       "        5.40445112e-02, -4.01851796e-02,  2.87798997e-02, -1.26363989e-02,\n",
       "        9.09237191e-03,  8.55873059e-03, -1.86801068e-02, -4.74601276e-02,\n",
       "        9.15857218e-03, -5.74308895e-02, -2.47273389e-02,  1.67403929e-02,\n",
       "       -5.89974858e-02, -1.16265519e-02, -3.17464620e-02, -2.76902877e-02,\n",
       "        2.46471297e-02, -2.19638534e-02, -1.48067297e-03, -1.54303806e-03,\n",
       "       -3.11482754e-02,  8.80778860e-03, -2.63203792e-02,  7.44455541e-03,\n",
       "       -4.13996987e-02,  4.22656126e-02,  1.40547939e-02,  3.71148176e-02,\n",
       "        1.65429916e-02,  2.38748640e-02,  7.43732080e-02,  1.69222616e-02,\n",
       "       -3.77558991e-02, -5.68999909e-03,  1.42862815e-02, -5.40809371e-02,\n",
       "        3.67115550e-02, -2.88399328e-02, -2.99103614e-02,  1.73107870e-02,\n",
       "        4.07154895e-02,  3.02445190e-03,  2.49818340e-02, -8.10995325e-03,\n",
       "        2.71535441e-02,  4.56135068e-03,  9.89691354e-04, -3.01098917e-02,\n",
       "       -4.22913209e-02, -9.20244213e-03, -2.52641309e-02, -7.78022856e-02,\n",
       "        2.92544048e-02,  3.93100083e-02,  1.18288398e-03,  5.21269068e-02,\n",
       "        5.87610481e-03,  6.87382882e-03, -1.58389285e-02, -1.61864273e-02,\n",
       "       -1.35990316e-02, -1.13495626e-03,  1.11101149e-02, -3.11284345e-02,\n",
       "       -4.26656567e-02,  5.45130074e-02,  3.24431472e-02, -3.30902748e-02,\n",
       "       -2.29055583e-02,  2.58963276e-02, -1.42365097e-04, -7.35428836e-03,\n",
       "        1.81726087e-02,  2.51527317e-02,  2.72543561e-02, -4.07390855e-03,\n",
       "       -9.24185663e-03,  2.29719225e-02, -8.28697905e-02, -6.41969452e-03,\n",
       "        5.27348276e-03, -5.93451969e-02,  5.45796119e-02,  4.94942593e-04,\n",
       "       -4.34123389e-02, -4.54083346e-02,  3.62050091e-03, -3.35482396e-02,\n",
       "        3.36791165e-02, -5.18071875e-02, -1.42163401e-02,  3.27715874e-02,\n",
       "       -7.79645890e-03,  2.10027061e-02,  9.35236830e-03, -2.19818149e-02,\n",
       "       -2.77630258e-02, -2.41995864e-02, -2.30923407e-02,  5.50204404e-02,\n",
       "       -1.65334512e-02,  2.32485458e-02, -9.78382677e-03, -3.56102102e-02,\n",
       "        1.53096886e-02,  1.40274642e-02, -5.69062121e-03,  4.87917289e-02,\n",
       "        4.04411256e-02, -2.26387177e-02,  4.85854335e-02,  2.31913314e-03,\n",
       "       -2.37037241e-02, -5.40439691e-03,  1.52442977e-03,  5.95267713e-02,\n",
       "        5.49712926e-02, -4.87314314e-02, -6.09588735e-02, -1.91010255e-02,\n",
       "        1.47651760e-02,  2.66948026e-02,  4.85266671e-02,  6.13340624e-02,\n",
       "       -2.84886174e-02, -2.93973759e-02, -3.73211056e-02, -2.39405949e-02,\n",
       "        3.23273912e-02, -5.29614091e-02, -2.93750465e-02, -2.65981257e-02,\n",
       "       -2.25060564e-02,  1.21489419e-02, -4.91774268e-02,  5.78167737e-02,\n",
       "        1.72846112e-02,  1.28110545e-02,  1.17898919e-01,  2.03049462e-02,\n",
       "       -4.32004174e-03, -4.57012951e-02,  4.28379484e-04, -4.42906693e-02,\n",
       "        3.51422764e-02,  1.90079752e-02, -3.42552783e-03, -2.14654324e-03,\n",
       "       -3.05174962e-02, -1.30473506e-02,  2.57623177e-02,  8.29750299e-02,\n",
       "        1.61282122e-02, -4.95349662e-03, -3.77845094e-02,  5.55310491e-03,\n",
       "       -2.50611315e-03,  3.41004021e-02, -3.70950475e-02,  7.89597109e-02,\n",
       "        6.77634031e-02, -2.86642872e-02, -3.32963583e-03, -9.62858275e-03,\n",
       "       -4.46536355e-02,  3.82544771e-02, -8.15313607e-02, -2.40299162e-02,\n",
       "        4.39526290e-02,  4.21191268e-02, -2.21106056e-02, -2.72917524e-02,\n",
       "        3.18351178e-03,  2.04553735e-02, -2.55823638e-02, -2.53014211e-02,\n",
       "       -8.12077895e-04,  5.00483885e-02, -3.78586203e-02,  5.11535406e-02,\n",
       "        1.01714563e-02, -9.50315315e-03,  2.59179454e-02, -4.58918251e-02,\n",
       "        4.52568708e-03,  2.78717745e-02,  4.72834595e-02, -1.54068815e-02,\n",
       "        5.40059572e-03, -1.36182234e-02, -6.56001493e-02, -2.44456325e-02,\n",
       "        4.69601415e-02,  4.92296480e-02,  2.35058349e-02, -2.19275057e-02,\n",
       "       -2.57733818e-02,  2.40970347e-02,  2.24522501e-03,  2.66362932e-02,\n",
       "        1.44742802e-02,  8.88009090e-03, -5.11260405e-02,  8.52976739e-02,\n",
       "        1.84109304e-02, -1.35702500e-02, -5.96301025e-03, -4.28309180e-02,\n",
       "       -2.06067096e-02, -9.32329148e-03,  3.21952328e-02, -4.27787565e-02,\n",
       "       -4.55789752e-02, -3.36379632e-02,  2.69391742e-02, -3.06118485e-02,\n",
       "        1.87906940e-02,  1.25370435e-02, -7.98070617e-03,  5.60549572e-02,\n",
       "       -1.34020681e-02, -5.97155280e-02, -5.73017485e-02,  4.53368016e-03,\n",
       "        2.32950202e-03,  4.49902602e-02, -1.37621723e-02, -3.25297825e-02,\n",
       "       -2.14166217e-03,  1.63441218e-04, -7.03342957e-03,  6.05700761e-02,\n",
       "        1.68408286e-02, -3.26763876e-02, -5.90617247e-02, -1.13941170e-02,\n",
       "        8.00557807e-02,  2.85366345e-02,  1.42760826e-02, -3.12647000e-02,\n",
       "        1.97760873e-02,  6.48229271e-02,  5.37142064e-03,  1.63932778e-02,\n",
       "        3.18505242e-02,  7.74439275e-02,  6.51394948e-03, -1.40156168e-02,\n",
       "       -6.33863406e-03, -5.52614406e-02,  1.80048626e-02,  2.34855339e-03,\n",
       "        1.04964981e-02,  1.97515767e-02,  4.43580514e-03,  6.44309679e-03,\n",
       "        4.74402383e-02,  2.90173069e-02, -1.42856771e-02,  7.74144530e-02,\n",
       "        5.96824549e-02, -4.74228039e-02, -1.27763506e-02, -1.87223945e-02,\n",
       "        5.50526604e-02,  3.82919088e-02,  8.28677192e-02, -1.94908977e-02,\n",
       "       -5.29412068e-02, -1.46833435e-02,  3.55767421e-02, -8.30317964e-04,\n",
       "        1.27543090e-02,  3.52956019e-02,  6.47191182e-02, -2.80718375e-02,\n",
       "       -3.84881459e-02, -1.09578082e-02,  4.46634479e-02,  1.95149723e-02,\n",
       "        5.65319918e-02,  2.01619673e-03, -3.39915529e-02,  6.47176653e-02,\n",
       "       -1.01058688e-02, -1.50148571e-03, -3.64054553e-02, -2.11120285e-02,\n",
       "       -2.16646027e-02,  5.10528088e-02, -8.98127444e-03,  1.56955551e-02,\n",
       "        2.41277460e-02, -6.75092312e-03, -1.04194628e-02, -1.06042800e-02,\n",
       "       -7.97076989e-03, -3.88249569e-03, -4.84160855e-02,  1.13870360e-01,\n",
       "       -1.82993412e-02, -2.70272493e-02,  1.05658852e-04, -5.21073639e-02,\n",
       "        1.93937495e-02,  8.16837698e-03,  3.76782790e-02, -1.32280374e-02,\n",
       "       -5.59777487e-03, -6.77137375e-02,  2.97013614e-02,  2.54932903e-02,\n",
       "       -4.57396405e-03,  1.18512791e-02, -9.09194723e-03, -2.77060568e-02,\n",
       "        4.56420518e-02,  6.43557459e-02,  7.13731116e-03,  2.36493293e-02,\n",
       "        3.25193480e-02,  5.11978641e-02,  2.33158516e-03,  5.17021157e-02,\n",
       "       -8.46732780e-03,  6.90202042e-03, -1.63642913e-02, -4.44406345e-02,\n",
       "       -4.25456278e-02,  1.86841935e-02,  5.46691287e-03, -7.49255298e-03,\n",
       "       -6.22437382e-03, -7.50583457e-03,  5.11448644e-02, -2.39955708e-02,\n",
       "       -1.44156916e-02, -2.03916468e-02, -2.19407585e-02,  3.27837765e-02,\n",
       "        9.07169189e-03, -2.55596433e-02,  3.45841260e-03, -6.86558783e-02,\n",
       "       -3.44212689e-02,  3.41691822e-02, -1.11942478e-02, -6.61723018e-02,\n",
       "        4.88884933e-02, -4.44125831e-02, -2.36494504e-02,  4.84840386e-02,\n",
       "       -1.34846754e-02, -5.73627464e-03, -5.04439091e-03,  1.32120466e-02,\n",
       "       -6.95121661e-02,  6.78228140e-02,  3.43314223e-02,  1.13713704e-02,\n",
       "       -5.39463088e-02,  1.12744933e-02, -2.08679363e-02,  2.27081757e-02,\n",
       "       -1.61086861e-02,  1.35956239e-02,  1.09931007e-02,  7.94870593e-03,\n",
       "        1.61337815e-02,  6.73581846e-03,  8.24712403e-03, -4.51407209e-02,\n",
       "       -4.01569307e-02, -4.36814055e-02, -3.35955955e-02, -5.07020727e-02,\n",
       "        1.95902158e-02, -4.62675141e-03, -3.39191221e-02, -3.14551853e-02,\n",
       "        1.59182667e-03,  3.93795222e-02,  4.70145792e-02,  3.32963243e-02,\n",
       "       -6.12828992e-02, -6.65725768e-03,  5.10531589e-02, -1.27579514e-02,\n",
       "       -1.40444515e-02,  8.06224532e-03,  1.74536612e-02, -7.40171373e-02,\n",
       "       -2.64810715e-02, -1.64559931e-02,  1.53744547e-03, -9.91719589e-03,\n",
       "       -2.87197810e-02,  2.53124833e-02, -7.51664266e-02, -4.86816429e-02,\n",
       "        9.14025865e-03, -3.11392415e-02, -1.57404300e-02,  3.80641446e-02,\n",
       "       -3.44902091e-03, -3.66819510e-03, -2.69366149e-02, -1.11941379e-02,\n",
       "        6.96991906e-02, -3.96194123e-02, -1.53906150e-02, -3.13541926e-02,\n",
       "       -2.99322121e-02, -1.50647108e-02,  3.45268063e-02, -4.38731071e-03,\n",
       "        7.63589377e-03, -5.17234020e-02, -2.29574693e-03, -2.03887559e-02,\n",
       "       -1.86529830e-02,  2.23247893e-02,  7.02603459e-02, -6.18759990e-02,\n",
       "        1.13483118e-02,  1.31464992e-02,  3.54390256e-02, -2.51803529e-02,\n",
       "        2.01049242e-02, -1.05340984e-02,  3.11639104e-02,  4.05334607e-02,\n",
       "        2.50351615e-02, -4.84647676e-02,  3.23839523e-02, -1.62923653e-02,\n",
       "        5.14845252e-02, -1.66387428e-02, -3.70803662e-02,  2.01698225e-02,\n",
       "       -1.73135288e-02, -8.99253134e-03,  2.84101181e-02,  4.57111571e-04,\n",
       "        5.28279915e-02,  2.71310490e-02, -5.00889942e-02, -1.95817370e-02,\n",
       "       -2.15115435e-02,  2.12543253e-02, -7.08982572e-02, -1.30421035e-02,\n",
       "       -6.95975646e-02, -2.30468400e-02, -9.25763743e-04, -8.21670797e-03,\n",
       "       -4.00045849e-02, -3.74400755e-03, -7.87185412e-03,  1.53234759e-02,\n",
       "       -1.47395441e-02, -4.15845588e-03, -4.19626683e-02,  6.35520816e-02,\n",
       "       -9.07413941e-03,  4.50233296e-02,  3.84770632e-02, -1.34701154e-03,\n",
       "        6.94484869e-03, -5.02856169e-03,  4.46152650e-02,  8.81296918e-02,\n",
       "        1.85929202e-02, -1.53603666e-02, -5.14183193e-03, -6.68486208e-03,\n",
       "        4.42432836e-02, -5.17960377e-02, -4.23721001e-02, -8.70245229e-03,\n",
       "        1.90417115e-02, -6.57971890e-04, -2.10675448e-02, -1.28873726e-02,\n",
       "        5.58449998e-02, -1.65105276e-02,  4.07388667e-03, -2.07334571e-03,\n",
       "       -6.02606349e-02,  3.98031920e-02, -6.24285638e-03,  1.69749968e-02,\n",
       "        3.33172232e-02, -2.14017648e-02,  4.21275087e-02, -1.06994649e-02,\n",
       "        2.89661740e-03,  4.11219932e-02,  1.73464846e-02, -1.28271161e-02,\n",
       "        2.22587632e-03, -1.45758232e-02,  6.02999032e-02, -1.94633100e-02,\n",
       "       -1.90606713e-02, -8.76326784e-02,  6.25409633e-02, -2.75675338e-02,\n",
       "        3.96077484e-02, -8.07066727e-03, -3.25398892e-02, -3.86653580e-02,\n",
       "        4.75060008e-02,  1.74405910e-02,  3.12927328e-02,  1.78439599e-02,\n",
       "       -5.21722157e-03,  1.32854898e-02,  2.35080123e-02, -1.42801264e-02,\n",
       "        2.46971827e-02,  6.02594856e-03,  1.39262304e-02, -4.70011291e-04,\n",
       "       -4.31713648e-02, -1.69994123e-02,  5.29026380e-03,  2.01908462e-02,\n",
       "       -6.30427105e-03, -2.43256800e-02,  2.00701598e-03, -2.46795057e-03,\n",
       "       -1.36101646e-02,  2.83816606e-02,  6.39460608e-02, -2.39883158e-02,\n",
       "       -1.83455460e-02, -5.43537326e-02, -3.32485400e-02,  9.75641608e-03,\n",
       "        8.77465904e-02, -2.94879824e-02, -7.92061072e-03, -9.04672313e-04,\n",
       "        7.39986496e-03,  2.42618639e-02,  8.03219900e-02, -4.08723466e-02,\n",
       "       -3.86877358e-02, -1.14791375e-02,  2.97032353e-02, -2.45191902e-02,\n",
       "        1.42314599e-03,  4.05141860e-02, -3.15095149e-02, -9.24334768e-03,\n",
       "       -1.05890632e-02, -3.85557599e-02, -5.94417527e-02,  2.49376125e-03,\n",
       "       -2.32036263e-02, -1.75379531e-03,  4.29657027e-02,  1.50510008e-02,\n",
       "       -1.47844842e-02, -6.08018599e-02, -2.98279198e-03,  6.59780577e-02,\n",
       "        7.41158903e-04, -2.55095530e-02,  2.91962866e-02, -1.10650342e-02,\n",
       "       -8.38852376e-02, -1.03891231e-02,  5.25111007e-03, -9.64039192e-03,\n",
       "        1.29141686e-02,  4.07055579e-02,  9.92041603e-02,  1.32478112e-02,\n",
       "        1.02359224e-02, -4.11056578e-02, -1.17306728e-02,  6.97926269e-04,\n",
       "       -2.13921610e-02, -5.96939661e-02,  1.30688399e-02, -2.20519565e-02])"
      ]
     },
     "execution_count": 107,
     "metadata": {},
     "output_type": "execute_result"
    }
   ],
   "source": [
    "embeddings[0]"
   ]
  },
  {
   "cell_type": "code",
   "execution_count": 108,
   "metadata": {},
   "outputs": [],
   "source": [
    "\n",
    "features = model.encode(torch.from_numpy(embeddings[0]).float().to(device))"
   ]
  },
  {
   "cell_type": "code",
   "execution_count": 109,
   "metadata": {},
   "outputs": [
    {
     "data": {
      "text/plain": [
       "EncoderOutput(top_acts=tensor([0.2009, 0.1396, 0.1395, 0.1342, 0.1148, 0.0945, 0.0907, 0.0829, 0.0752,\n",
       "        0.0679, 0.0661, 0.0599, 0.0596, 0.0539, 0.0502, 0.0466, 0.0461, 0.0437,\n",
       "        0.0416, 0.0415, 0.0378, 0.0364, 0.0351, 0.0347, 0.0336, 0.0315, 0.0302,\n",
       "        0.0287, 0.0286, 0.0284, 0.0277, 0.0270, 0.0262, 0.0257, 0.0253, 0.0249,\n",
       "        0.0238, 0.0236, 0.0235, 0.0231, 0.0230, 0.0220, 0.0220, 0.0204, 0.0200,\n",
       "        0.0199, 0.0199, 0.0194, 0.0186, 0.0186, 0.0185, 0.0184, 0.0183, 0.0181,\n",
       "        0.0180, 0.0180, 0.0174, 0.0173, 0.0171, 0.0168, 0.0164, 0.0162, 0.0159,\n",
       "        0.0159], grad_fn=<TopkBackward0>), top_indices=tensor([ 8944, 14943, 11176,  7583,  4941,  4000,  4919, 16225,  5983, 23917,\n",
       "         9398,  7627,  9535, 18204,  7518, 16708, 19213, 22337, 10367,  2724,\n",
       "         1460, 16267,  9217,  2228, 22989,  5340, 18167,  5432,  7774,  4004,\n",
       "        11963, 10567,  7070, 10463, 11244,  9566,  4118, 23250, 10539,  2241,\n",
       "         4769, 15618, 20645, 21214, 17483, 10935,  3523, 13444, 10181, 20740,\n",
       "         3322, 12048, 13318,  1955,  2507,   312, 10078, 20104,  8118,  2390,\n",
       "        19666,   397, 17107,  1374]))"
      ]
     },
     "execution_count": 109,
     "metadata": {},
     "output_type": "execute_result"
    }
   ],
   "source": [
    "features"
   ]
  },
  {
   "cell_type": "code",
   "execution_count": 110,
   "metadata": {},
   "outputs": [
    {
     "data": {
      "text/plain": [
       "tensor([ 8944, 14943, 11176,  7583,  4941,  4000,  4919, 16225,  5983, 23917,\n",
       "         9398,  7627,  9535, 18204,  7518, 16708, 19213, 22337, 10367,  2724,\n",
       "         1460, 16267,  9217,  2228, 22989,  5340, 18167,  5432,  7774,  4004,\n",
       "        11963, 10567,  7070, 10463, 11244,  9566,  4118, 23250, 10539,  2241,\n",
       "         4769, 15618, 20645, 21214, 17483, 10935,  3523, 13444, 10181, 20740,\n",
       "         3322, 12048, 13318,  1955,  2507,   312, 10078, 20104,  8118,  2390,\n",
       "        19666,   397, 17107,  1374])"
      ]
     },
     "execution_count": 110,
     "metadata": {},
     "output_type": "execute_result"
    }
   ],
   "source": [
    "features.top_indices"
   ]
  },
  {
   "cell_type": "code",
   "execution_count": 111,
   "metadata": {},
   "outputs": [],
   "source": [
    "all_embeddings = torch.from_numpy(embeddings).float().to(device)"
   ]
  },
  {
   "cell_type": "code",
   "execution_count": 112,
   "metadata": {},
   "outputs": [],
   "source": [
    "# Encode all embeddings at once\n",
    "all_features = model.encode(all_embeddings)\n"
   ]
  },
  {
   "cell_type": "code",
   "execution_count": 103,
   "metadata": {},
   "outputs": [
    {
     "data": {
      "text/plain": [
       "tensor([16635,  2175,  9949,  3718, 11963, 23548, 21023,  4896, 21647,  5107,\n",
       "        24305,  7448,  9598, 20701, 11211,  5659,  2998, 17820, 24077, 15053,\n",
       "        12517,  4183, 17520, 12438,  1352, 17038, 22346, 14382, 24561,  4653,\n",
       "        20042,  2300, 16577, 12612, 17695, 17664,  1971, 18458,  9036, 14652,\n",
       "         2614, 23941, 11203,  1515, 22092,  2896, 12139, 15423,  8187, 16376,\n",
       "         6812, 21945, 18230, 23832,  5919,  1538,  9038, 21064, 10567, 22698,\n",
       "         2986,  2350, 20638,  5638])"
      ]
     },
     "execution_count": 103,
     "metadata": {},
     "output_type": "execute_result"
    }
   ],
   "source": [
    "all_features.top_indices[1]"
   ]
  },
  {
   "cell_type": "code",
   "execution_count": 104,
   "metadata": {},
   "outputs": [
    {
     "name": "stdout",
     "output_type": "stream",
     "text": [
      "Maximum top_acts value: 0.613632082939148\n",
      "Minimum top_acts value: 0.013181308284401894\n"
     ]
    }
   ],
   "source": [
    "# Convert all top_acts to a single tensor\n",
    "all_top_acts = all_features.top_acts#torch.cat([feature.top_acts for feature in all_features])\n",
    "\n",
    "# Get the max and min of top_acts across all features\n",
    "max_top_acts = all_top_acts.max().item()\n",
    "min_top_acts = all_top_acts.min().item()\n",
    "\n",
    "print(f\"Maximum top_acts value: {max_top_acts}\")\n",
    "print(f\"Minimum top_acts value: {min_top_acts}\")\n",
    "\n"
   ]
  },
  {
   "cell_type": "code",
   "execution_count": 105,
   "metadata": {},
   "outputs": [],
   "source": [
    "all_top_indices = all_features.top_indices #torch.stack([feature.top_indices for feature in all_features])"
   ]
  },
  {
   "cell_type": "code",
   "execution_count": 71,
   "metadata": {},
   "outputs": [],
   "source": [
    "def get_top_activations_for_feature(feature_index, top_n=5):\n",
    "    \n",
    "    # Find the rows where the feature_index appears in top_indices\n",
    "    feature_mask = all_top_indices == feature_index\n",
    "    \n",
    "    # Get the corresponding activations\n",
    "    feature_activations = torch.where(feature_mask, all_top_acts, torch.tensor(0.0))\n",
    "    \n",
    "    # Get the top_n row indices with highest activations\n",
    "    top_row_indices = torch.topk(feature_activations.max(dim=1)[0], k=top_n).indices\n",
    "    \n",
    "    # Get the activation values for these top rows\n",
    "    top_activations = feature_activations[top_row_indices, :]\n",
    "    \n",
    "    return top_row_indices, top_activations\n",
    "\n"
   ]
  },
  {
   "cell_type": "code",
   "execution_count": 72,
   "metadata": {},
   "outputs": [
    {
     "name": "stdout",
     "output_type": "stream",
     "text": [
      "Top 5 rows for feature index 0:\n",
      "Row 66398: Activation 0.1603\n",
      "Row 87126: Activation 0.1468\n",
      "Row 19209: Activation 0.1463\n",
      "Row 51702: Activation 0.1241\n",
      "Row 8334: Activation 0.1228\n"
     ]
    }
   ],
   "source": [
    "\n",
    "# Example usage:\n",
    "feature_index = 0 # Example feature index (you can change this)\n",
    "top_row_indices, top_activations = get_top_activations_for_feature(feature_index)\n",
    "\n",
    "print(f\"Top 5 rows for feature index {feature_index}:\")\n",
    "for i, (row, activation) in enumerate(zip(top_row_indices, top_activations)):\n",
    "    print(f\"Row {row.item()}: Activation {activation.max().item():.4f}\")"
   ]
  },
  {
   "cell_type": "code",
   "execution_count": 73,
   "metadata": {},
   "outputs": [],
   "source": [
    "def get_max_activation_per_feature(num_features):\n",
    "    max_activations = torch.full((num_features,), -1.0)\n",
    "    \n",
    "    for feature_idx in range(num_features):\n",
    "        feature_mask = all_top_indices == feature_idx\n",
    "        if feature_mask.any():\n",
    "            feature_activations = torch.where(feature_mask, all_top_acts, torch.tensor(0.0))\n",
    "            max_activation = feature_activations.max().item()\n",
    "            max_activations[feature_idx] = max_activation\n",
    "    \n",
    "    return max_activations\n",
    "\n"
   ]
  },
  {
   "cell_type": "code",
   "execution_count": 74,
   "metadata": {},
   "outputs": [
    {
     "name": "stdout",
     "output_type": "stream",
     "text": [
      "num features 24576\n",
      "Max activation for each feature:\n",
      "tensor([0.1603, 0.0837, 0.0244,  ..., 0.0489, 0.2019, 0.1133])\n",
      "\n",
      "Features with no activation:\n",
      "tensor([    4,    55,    71,  ..., 24490, 24512, 24513])\n"
     ]
    }
   ],
   "source": [
    "\n",
    "# Example usage:\n",
    "num_features = 768 * 32  \n",
    "print(\"num features\", num_features)\n",
    "max_activations_per_feature = get_max_activation_per_feature(num_features)\n",
    "\n",
    "print(\"Max activation for each feature:\")\n",
    "print(max_activations_per_feature)\n",
    "\n",
    "# You can also find features with no activations:\n",
    "features_with_no_activation = torch.where(max_activations_per_feature == -1)[0]\n",
    "print(\"\\nFeatures with no activation:\")\n",
    "print(features_with_no_activation)"
   ]
  },
  {
   "cell_type": "code",
   "execution_count": 75,
   "metadata": {},
   "outputs": [
    {
     "data": {
      "text/plain": [
       "1289"
      ]
     },
     "execution_count": 75,
     "metadata": {},
     "output_type": "execute_result"
    }
   ],
   "source": [
    "len(features_with_no_activation)"
   ]
  },
  {
   "cell_type": "code",
   "execution_count": 76,
   "metadata": {},
   "outputs": [
    {
     "name": "stdout",
     "output_type": "stream",
     "text": [
      "Activated features:\n"
     ]
    },
    {
     "data": {
      "text/plain": [
       "23287"
      ]
     },
     "execution_count": 76,
     "metadata": {},
     "output_type": "execute_result"
    }
   ],
   "source": [
    "activated_features = torch.where(max_activations_per_feature != -1)[0]\n",
    "print(\"Activated features:\")\n",
    "len(activated_features)"
   ]
  },
  {
   "cell_type": "code",
   "execution_count": 77,
   "metadata": {},
   "outputs": [
    {
     "data": {
      "image/png": "[encoded data removed]",
      "text/plain": [
       "<Figure size 1200x600 with 1 Axes>"
      ]
     },
     "metadata": {},
     "output_type": "display_data"
    },
    {
     "name": "stdout",
     "output_type": "stream",
     "text": [
      "Mean activation: 0.0826\n",
      "Median activation: 0.0499\n",
      "Min activation: 0.0117\n",
      "Max activation: 0.4249\n"
     ]
    }
   ],
   "source": [
    "# Create a histogram of activation amounts\n",
    "import matplotlib.pyplot as plt\n",
    "\n",
    "# Filter out the -1 values (features with no activation)\n",
    "activated_values = max_activations_per_feature[max_activations_per_feature != -1]\n",
    "\n",
    "plt.figure(figsize=(12, 6))\n",
    "plt.hist(activated_values.numpy(), bins=50, edgecolor='black')\n",
    "plt.title('Histogram of Max Activation Values per Feature')\n",
    "plt.xlabel('Max Activation Value')\n",
    "plt.ylabel('Frequency')\n",
    "plt.grid(True, alpha=0.3)\n",
    "\n",
    "# Add vertical line for mean\n",
    "mean_activation = activated_values.mean()\n",
    "plt.axvline(mean_activation, color='r', linestyle='dashed', linewidth=2, label=f'Mean: {mean_activation:.4f}')\n",
    "\n",
    "# Add vertical line for median\n",
    "median_activation = activated_values.median()\n",
    "plt.axvline(median_activation, color='g', linestyle='dashed', linewidth=2, label=f'Median: {median_activation:.4f}')\n",
    "\n",
    "plt.legend()\n",
    "plt.show()\n",
    "\n",
    "# Print some statistics\n",
    "print(f\"Mean activation: {mean_activation:.4f}\")\n",
    "print(f\"Median activation: {median_activation:.4f}\")\n",
    "print(f\"Min activation: {activated_values.min().item():.4f}\")\n",
    "print(f\"Max activation: {activated_values.max().item():.4f}\")\n"
   ]
  },
  {
   "cell_type": "code",
   "execution_count": null,
   "metadata": {},
   "outputs": [],
   "source": []
  }
 ],
 "metadata": {
  "kernelspec": {
   "display_name": "venv",
   "language": "python",
   "name": "python3"
  },
  "language_info": {
   "codemirror_mode": {
    "name": "ipython",
    "version": 3
   },
   "file_extension": ".py",
   "mimetype": "text/x-python",
   "name": "python",
   "nbconvert_exporter": "python",
   "pygments_lexer": "ipython3",
   "version": "3.12.4"
  }
 },
 "nbformat": 4,
 "nbformat_minor": 2
}
